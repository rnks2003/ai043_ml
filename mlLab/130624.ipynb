{
 "cells": [
  {
   "cell_type": "markdown",
   "metadata": {},
   "source": [
    "# Implement ANN"
   ]
  },
  {
   "cell_type": "markdown",
   "metadata": {},
   "source": [
    "**Importing dependencies :**"
   ]
  },
  {
   "cell_type": "code",
   "execution_count": null,
   "metadata": {},
   "outputs": [],
   "source": [
    "import numpy as np"
   ]
  },
  {
   "cell_type": "markdown",
   "metadata": {},
   "source": [
    "**Synthesising data :**"
   ]
  },
  {
   "cell_type": "code",
   "execution_count": null,
   "metadata": {},
   "outputs": [],
   "source": [
    "X = np.array([[2,9],[1,5],[3,6]],dtype=float)\n",
    "y = np.array([[92],[86],[89]],dtype=float)"
   ]
  },
  {
   "cell_type": "markdown",
   "metadata": {},
   "source": [
    "*Normalising data :*"
   ]
  },
  {
   "cell_type": "code",
   "execution_count": null,
   "metadata": {},
   "outputs": [],
   "source": [
    "X = X/np.amax(X,axis=0)\n",
    "y = y/100"
   ]
  },
  {
   "cell_type": "markdown",
   "metadata": {},
   "source": [
    "**Helper functions :**"
   ]
  },
  {
   "cell_type": "code",
   "execution_count": null,
   "metadata": {},
   "outputs": [],
   "source": [
    "def sig(x):\n",
    "    return 1/(1+np.exp(-x))\n",
    "\n",
    "def dSig(x):\n",
    "    return x*(1-x)"
   ]
  },
  {
   "cell_type": "markdown",
   "metadata": {},
   "source": [
    "**Parameter definition :**"
   ]
  },
  {
   "cell_type": "code",
   "execution_count": null,
   "metadata": {},
   "outputs": [],
   "source": [
    "epoch = 5000\n",
    "lr = 0.1\n",
    "\n",
    "l0_units = 2\n",
    "l1_units = 3\n",
    "l2_units = 1"
   ]
  },
  {
   "cell_type": "code",
   "execution_count": null,
   "metadata": {},
   "outputs": [],
   "source": [
    "wh = np.random.uniform(size=(l0_units,l1_units))\n",
    "bh = np.random.uniform(size=(1,l1_units))\n",
    "wout = np.random.uniform(size=(l1_units,l2_units))\n",
    "bout = np.random.uniform(size=(1,l2_units))"
   ]
  },
  {
   "cell_type": "markdown",
   "metadata": {},
   "source": [
    "**Training :**"
   ]
  },
  {
   "cell_type": "code",
   "execution_count": null,
   "metadata": {},
   "outputs": [],
   "source": [
    "for i in range(epoch):\n",
    "    hinp1 = np.dot(X,wh)\n",
    "    hinp = hinp1 + bh\n",
    "    hlayer_act = sig(hinp)\n",
    "\n",
    "    outinp1 = np.dot(hlayer_act,wout)\n",
    "    outinp = outinp1 + bout\n",
    "    output = sig(outinp)\n",
    "\n",
    "    EO = y - output\n",
    "    outGrad = dSig(output)\n",
    "    dOut = EO * outGrad\n",
    "    EH = dOut.dot(wout.T)\n",
    "\n",
    "    hiddenGrad = dSig(hlayer_act)\n",
    "    dHidden = EH * hiddenGrad\n",
    "\n",
    "    wout += hlayer_act.T.dot(dOut)*lr\n",
    "    wh += X.T.dot(dHidden)*lr"
   ]
  },
  {
   "cell_type": "markdown",
   "metadata": {},
   "source": [
    "**Predicting :**"
   ]
  },
  {
   "cell_type": "code",
   "execution_count": null,
   "metadata": {},
   "outputs": [],
   "source": [
    "print(f\"Input :\\n {str(X)}\\n\")\n",
    "print(f\"Actual Output :\\n {str(y)}\\n\")\n",
    "print(f\"Predicted Output :\\n {output}\\n\")"
   ]
  },
  {
   "cell_type": "markdown",
   "metadata": {},
   "source": [
    "# Using tensorflow"
   ]
  },
  {
   "cell_type": "code",
   "execution_count": null,
   "metadata": {},
   "outputs": [],
   "source": [
    "import tensorflow as tf\n",
    "\n",
    "l0 = tf.keras.layers.Dense(2,input_shape=(2,))\n",
    "l1 = tf.keras.layers.Dense(3,activation='sigmoid')\n",
    "l2 = tf.keras.layers.Dense(1,activation='sigmoid')\n",
    "\n",
    "model = tf.keras.models.Sequential([l0,l1,l2])\n",
    "model.summary()"
   ]
  },
  {
   "cell_type": "code",
   "execution_count": null,
   "metadata": {},
   "outputs": [],
   "source": [
    "model.compile(optimizer='sgd',loss=tf.keras.losses.MAE)\n",
    "model.fit(X,y,epochs=5000,shuffle=True)"
   ]
  },
  {
   "cell_type": "code",
   "execution_count": null,
   "metadata": {},
   "outputs": [],
   "source": [
    "model.predict(np.array([[2,9]]))"
   ]
  }
 ],
 "metadata": {
  "kernelspec": {
   "display_name": "ai043_ml",
   "language": "python",
   "name": "python3"
  },
  "language_info": {
   "codemirror_mode": {
    "name": "ipython",
    "version": 3
   },
   "file_extension": ".py",
   "mimetype": "text/x-python",
   "name": "python",
   "nbconvert_exporter": "python",
   "pygments_lexer": "ipython3",
   "version": "3.10.14"
  }
 },
 "nbformat": 4,
 "nbformat_minor": 2
}
