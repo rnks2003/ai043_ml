{
 "cells": [
  {
   "cell_type": "markdown",
   "metadata": {},
   "source": [
    "# Candidate-Elimination algorithm :"
   ]
  },
  {
   "cell_type": "markdown",
   "metadata": {},
   "source": [
    "*Importing dependencies :*"
   ]
  },
  {
   "cell_type": "code",
   "execution_count": null,
   "metadata": {},
   "outputs": [],
   "source": [
    "import pandas as pd\n",
    "import numpy as np"
   ]
  },
  {
   "cell_type": "markdown",
   "metadata": {},
   "source": [
    "*Importing dataset*"
   ]
  },
  {
   "cell_type": "code",
   "execution_count": null,
   "metadata": {},
   "outputs": [],
   "source": [
    "dataset = pd.read_csv(\"../datasets/mlLab/140524_1.csv\")"
   ]
  },
  {
   "cell_type": "code",
   "execution_count": null,
   "metadata": {},
   "outputs": [],
   "source": [
    "dataset = np.array(dataset)\n",
    "print(dataset)"
   ]
  },
  {
   "cell_type": "markdown",
   "metadata": {},
   "source": [
    "*Initialise G and S :*"
   ]
  },
  {
   "cell_type": "code",
   "execution_count": null,
   "metadata": {},
   "outputs": [],
   "source": [
    "featureCount = dataset.shape[1]-1\n",
    "\n",
    "G =[['?' for x in range(featureCount)] for x in range(featureCount)]\n",
    "\n",
    "S = ['NULL']*featureCount\n",
    "for x in dataset:\n",
    "    if x[-1]=='yes':\n",
    "        for f in range(len(x)-1): S[f] = x[f]\n",
    "        break\n",
    "\n",
    "print(f\"G : {G}\\nS : {S}\")"
   ]
  },
  {
   "cell_type": "markdown",
   "metadata": {},
   "source": [
    "*Implementing Candidate-Elimination algorithm :*"
   ]
  },
  {
   "cell_type": "code",
   "execution_count": null,
   "metadata": {},
   "outputs": [],
   "source": [
    "for x in dataset:\n",
    "    #print(f\"x ({x[-1]}) : {x[:-1]}\")\n",
    "    if x[-1]=='yes':\n",
    "        for f in range(len(x)-1):\n",
    "            if x[f]!= S[f]: \n",
    "                S[f]='?'\n",
    "                G[f][f] = '?'\n",
    "        \n",
    "    else:\n",
    "        for f in range(len(x)-1):\n",
    "            if x[f] != S[f]:\n",
    "                G[f][f] = S[f]\n",
    "            else:\n",
    "                G[f][f] = '?'\n",
    "\n",
    "G = [G[i] for i in range(len(G)) if G[i] != ['?' for x in range(featureCount)]]\n",
    "print(f\"G : {G}\\nS : {S}\\n\")"
   ]
  }
 ],
 "metadata": {
  "kernelspec": {
   "display_name": "ai043_ml",
   "language": "python",
   "name": "python3"
  },
  "language_info": {
   "codemirror_mode": {
    "name": "ipython",
    "version": 3
   },
   "file_extension": ".py",
   "mimetype": "text/x-python",
   "name": "python",
   "nbconvert_exporter": "python",
   "pygments_lexer": "ipython3",
   "version": "3.12.4"
  }
 },
 "nbformat": 4,
 "nbformat_minor": 2
}
