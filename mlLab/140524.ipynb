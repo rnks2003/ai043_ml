{
 "cells": [
  {
   "cell_type": "markdown",
   "metadata": {},
   "source": [
    "**Find S Algorithm :**"
   ]
  },
  {
   "cell_type": "markdown",
   "metadata": {},
   "source": [
    "*Importing dependencies :*"
   ]
  },
  {
   "cell_type": "code",
   "execution_count": 2,
   "metadata": {},
   "outputs": [],
   "source": [
    "import pandas as pd\n",
    "import numpy as np"
   ]
  },
  {
   "cell_type": "markdown",
   "metadata": {},
   "source": [
    "*Importing Dataset :*"
   ]
  },
  {
   "cell_type": "code",
   "execution_count": 3,
   "metadata": {},
   "outputs": [],
   "source": [
    "dataset = pd.read_csv(\"datasets/mlLab/140524_1.csv\")"
   ]
  },
  {
   "cell_type": "code",
   "execution_count": 62,
   "metadata": {},
   "outputs": [
    {
     "name": "stdout",
     "output_type": "stream",
     "text": [
      "     sky air temp humidity    wind water forecast enjoy sport\n",
      "0  sunny     warm   normal  strong  warm     same         yes\n",
      "1  sunny     warm     high  strong  warm     same         yes\n",
      "2  rainy     cold     high  strong  warm   change          no\n",
      "3  sunny     warm     high  strong  cool   change         yes\n",
      "\n",
      " <class 'pandas.core.frame.DataFrame'> (4, 7)\n"
     ]
    }
   ],
   "source": [
    "print(dataset)\n",
    "\n",
    "print(\"\\n\",type(dataset),dataset.shape)"
   ]
  },
  {
   "cell_type": "markdown",
   "metadata": {},
   "source": [
    "*Creating numpy array from dataframe :*"
   ]
  },
  {
   "cell_type": "code",
   "execution_count": 63,
   "metadata": {},
   "outputs": [],
   "source": [
    "npData = np.array(dataset)"
   ]
  },
  {
   "cell_type": "code",
   "execution_count": 64,
   "metadata": {},
   "outputs": [
    {
     "name": "stdout",
     "output_type": "stream",
     "text": [
      "[['sunny' 'warm' 'normal' 'strong' 'warm' 'same' 'yes']\n",
      " ['sunny' 'warm' 'high' 'strong' 'warm' 'same' 'yes']\n",
      " ['rainy' 'cold' 'high' 'strong' 'warm' 'change' 'no']\n",
      " ['sunny' 'warm' 'high' 'strong' 'cool' 'change' 'yes']]\n",
      "\n",
      " <class 'numpy.ndarray'> (4, 7)\n"
     ]
    }
   ],
   "source": [
    "print(npData)\n",
    "\n",
    "print(\"\\n\",type(npData),npData.shape)"
   ]
  },
  {
   "cell_type": "markdown",
   "metadata": {},
   "source": [
    "*Creating feature and label sets :*"
   ]
  },
  {
   "cell_type": "code",
   "execution_count": 65,
   "metadata": {
    "slideshow": {
     "slide_type": "slide"
    }
   },
   "outputs": [
    {
     "name": "stdout",
     "output_type": "stream",
     "text": [
      "[['sunny' 'warm' 'normal' 'strong' 'warm' 'same']\n",
      " ['sunny' 'warm' 'high' 'strong' 'warm' 'same']\n",
      " ['rainy' 'cold' 'high' 'strong' 'warm' 'change']\n",
      " ['sunny' 'warm' 'high' 'strong' 'cool' 'change']] \n",
      " (4, 6)\n",
      "\n",
      "['yes' 'yes' 'no' 'yes'] \n",
      " (4,)\n"
     ]
    }
   ],
   "source": [
    "\"\"\"\n",
    "features = []\n",
    "labels = []\n",
    "\n",
    "for x in npData:\n",
    "    features.append(x[:-1])\n",
    "    labels.append(x[-1])\n",
    "\n",
    "features = np.array(features)\n",
    "labels = np.array(labels)\n",
    "\n",
    "print(features,\"\\n\",features.shape)\n",
    "print()\n",
    "print(labels,\"\\n\",labels.shape)\n",
    "\"\"\""
   ]
  },
  {
   "cell_type": "markdown",
   "metadata": {},
   "source": [
    "*Cleaning data :*\n",
    "\n",
    "creating the positive sample set"
   ]
  },
  {
   "cell_type": "code",
   "execution_count": 66,
   "metadata": {},
   "outputs": [],
   "source": [
    "posData = []\n",
    "\n",
    "for x in npData:\n",
    "    if x[-1] == \"yes\":\n",
    "        posData.append(x[:-1])\n",
    "\n",
    "posData = np.array(posData)"
   ]
  },
  {
   "cell_type": "code",
   "execution_count": 67,
   "metadata": {},
   "outputs": [
    {
     "name": "stdout",
     "output_type": "stream",
     "text": [
      "[['sunny' 'warm' 'normal' 'strong' 'warm' 'same']\n",
      " ['sunny' 'warm' 'high' 'strong' 'warm' 'same']\n",
      " ['sunny' 'warm' 'high' 'strong' 'cool' 'change']]\n",
      "\n",
      " <class 'numpy.ndarray'> (3, 6)\n"
     ]
    }
   ],
   "source": [
    "print(posData)\n",
    "\n",
    "print(\"\\n\",type(posData),posData.shape)"
   ]
  },
  {
   "cell_type": "markdown",
   "metadata": {},
   "source": [
    "*Implementing Find S algorithm :*"
   ]
  },
  {
   "cell_type": "code",
   "execution_count": 68,
   "metadata": {},
   "outputs": [],
   "source": [
    "h = posData[0]\n",
    "for x in posData[1:]:\n",
    "    for f in range(len(x)):\n",
    "        if h[f]!= x[f]:\n",
    "            h[f]='?'"
   ]
  },
  {
   "cell_type": "markdown",
   "metadata": {},
   "source": [
    "*Absolute hypothesis :*"
   ]
  },
  {
   "cell_type": "code",
   "execution_count": 69,
   "metadata": {},
   "outputs": [
    {
     "name": "stdout",
     "output_type": "stream",
     "text": [
      "['sunny' 'warm' '?' 'strong' '?' '?']\n"
     ]
    }
   ],
   "source": [
    "print(h)"
   ]
  }
 ],
 "metadata": {
  "kernelspec": {
   "display_name": "Python 3 (ipykernel)",
   "language": "python",
   "name": "python3"
  },
  "language_info": {
   "codemirror_mode": {
    "name": "ipython",
    "version": 3
   },
   "file_extension": ".py",
   "mimetype": "text/x-python",
   "name": "python",
   "nbconvert_exporter": "python",
   "pygments_lexer": "ipython3",
   "version": "3.10.14"
  }
 },
 "nbformat": 4,
 "nbformat_minor": 4
}
