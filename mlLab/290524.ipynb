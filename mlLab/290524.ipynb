{
 "cells": [
  {
   "cell_type": "markdown",
   "metadata": {},
   "source": [
    "**Decision Tree (IG3) :**"
   ]
  },
  {
   "cell_type": "markdown",
   "metadata": {},
   "source": [
    "*Importing dependencies :*"
   ]
  },
  {
   "cell_type": "code",
   "execution_count": 160,
   "metadata": {},
   "outputs": [],
   "source": [
    "import numpy as np\n",
    "import pandas as pd"
   ]
  },
  {
   "cell_type": "markdown",
   "metadata": {},
   "source": [
    "*Importing Dataset :*"
   ]
  },
  {
   "cell_type": "code",
   "execution_count": 161,
   "metadata": {},
   "outputs": [],
   "source": [
    "dataFrame = pd.read_csv(\"../datasets/mlLab/290524.csv\")"
   ]
  },
  {
   "cell_type": "code",
   "execution_count": 162,
   "metadata": {},
   "outputs": [
    {
     "data": {
      "text/plain": [
       "array([[1, 'sunny', 'hot', 'high', 'weak', 'no'],\n",
       "       [2, 'sunny', 'hot', 'high', 'strong', 'no'],\n",
       "       [3, 'cloudy', 'hot', 'high', 'weak', 'yes'],\n",
       "       [4, 'rain', 'mild', 'high', 'weak', 'yes'],\n",
       "       [5, 'rain', 'cool', 'normal', 'weak', 'yes'],\n",
       "       [6, 'rain', 'cool', 'normal', 'strong', 'no'],\n",
       "       [7, 'cloudy', 'cool', 'normal', 'strong', 'yes'],\n",
       "       [8, 'sunny', 'mild', 'high', 'weak', 'no'],\n",
       "       [9, 'sunny', 'cool', 'normal', 'weak', 'yes'],\n",
       "       [10, 'rain', 'mild', 'normal', 'weak', 'yes'],\n",
       "       [11, 'sunny', 'mild', 'normal', 'strong', 'yes'],\n",
       "       [12, 'cloudy', 'mild', 'high', 'strong', 'yes'],\n",
       "       [13, 'cloudy', 'hot', 'normal', 'weak', 'yes'],\n",
       "       [14, 'rain', 'mild', 'high', 'strong', 'no']], dtype=object)"
      ]
     },
     "execution_count": 162,
     "metadata": {},
     "output_type": "execute_result"
    }
   ],
   "source": [
    "dataset = np.array(dataFrame)\n",
    "dataset"
   ]
  },
  {
   "cell_type": "markdown",
   "metadata": {},
   "source": [
    "*Cleaning dataset :*"
   ]
  },
  {
   "cell_type": "code",
   "execution_count": 163,
   "metadata": {},
   "outputs": [],
   "source": [
    "features = dataset[:,1:-1]\n",
    "target = dataset[:,-1]"
   ]
  },
  {
   "cell_type": "code",
   "execution_count": 164,
   "metadata": {},
   "outputs": [
    {
     "name": "stdout",
     "output_type": "stream",
     "text": [
      "[['sunny' 'hot' 'high' 'weak']\n",
      " ['sunny' 'hot' 'high' 'strong']\n",
      " ['cloudy' 'hot' 'high' 'weak']\n",
      " ['rain' 'mild' 'high' 'weak']\n",
      " ['rain' 'cool' 'normal' 'weak']\n",
      " ['rain' 'cool' 'normal' 'strong']\n",
      " ['cloudy' 'cool' 'normal' 'strong']\n",
      " ['sunny' 'mild' 'high' 'weak']\n",
      " ['sunny' 'cool' 'normal' 'weak']\n",
      " ['rain' 'mild' 'normal' 'weak']\n",
      " ['sunny' 'mild' 'normal' 'strong']\n",
      " ['cloudy' 'mild' 'high' 'strong']\n",
      " ['cloudy' 'hot' 'normal' 'weak']\n",
      " ['rain' 'mild' 'high' 'strong']]\n",
      "['no' 'no' 'yes' 'yes' 'yes' 'no' 'yes' 'no' 'yes' 'yes' 'yes' 'yes' 'yes'\n",
      " 'no']\n"
     ]
    }
   ],
   "source": [
    "print(f'{features}\\n{target}')"
   ]
  },
  {
   "cell_type": "markdown",
   "metadata": {},
   "source": [
    "*Calculating entropy of dataset :*"
   ]
  },
  {
   "cell_type": "code",
   "execution_count": 165,
   "metadata": {},
   "outputs": [],
   "source": [
    "nPos = 0\n",
    "nNeg = 0\n",
    "\n",
    "for x in target:\n",
    "    if x=='yes':nPos+=1\n",
    "    else:nNeg+=1\n",
    "\n",
    "pPos = nPos/len(target)\n",
    "pNeg = nNeg/len(target)"
   ]
  },
  {
   "cell_type": "code",
   "execution_count": 166,
   "metadata": {},
   "outputs": [
    {
     "name": "stdout",
     "output_type": "stream",
     "text": [
      "p(+) = 0.6428571428571429\n",
      "p(-) = 0.35714285714285715\n"
     ]
    }
   ],
   "source": [
    "print(f'p(+) = {pPos}\\np(-) = {pNeg}')"
   ]
  },
  {
   "cell_type": "code",
   "execution_count": 167,
   "metadata": {},
   "outputs": [],
   "source": [
    "def entropy(pPos:float,pNeg:float)->float:\n",
    "    if pPos == 0:\n",
    "        if pNeg == 0:\n",
    "            return 0\n",
    "        else:\n",
    "            return -pNeg*np.log2(pNeg)\n",
    "    \n",
    "    if pNeg == 0:\n",
    "            return -pPos*np.log2(pPos)\n",
    "\n",
    "    return -pPos * np.log2(pPos) - pNeg*np.log2(pNeg)"
   ]
  },
  {
   "cell_type": "code",
   "execution_count": 168,
   "metadata": {},
   "outputs": [
    {
     "name": "stdout",
     "output_type": "stream",
     "text": [
      "Entropy(S) = 0.9402859586706309\n"
     ]
    }
   ],
   "source": [
    "e = entropy(pPos=pPos,pNeg=pNeg)\n",
    "print(f\"Entropy(S) = {e}\")"
   ]
  },
  {
   "cell_type": "markdown",
   "metadata": {},
   "source": [
    "*Calculating entropy for features :*"
   ]
  },
  {
   "cell_type": "code",
   "execution_count": 169,
   "metadata": {},
   "outputs": [],
   "source": [
    "def entropyF(index:int)->np.array:\n",
    "    values = []\n",
    "    entropyV = []\n",
    "    mapVE=[]\n",
    "    \n",
    "    for x in dataset[:,index]:\n",
    "        nPos = 0\n",
    "        nNeg = 0\n",
    "        n = 0\n",
    "        if x not in values:\n",
    "            values.append(x)\n",
    "            for y in dataset[:,:]:\n",
    "                if x==y[index]:\n",
    "                    n+=1\n",
    "                    if y[-1]=='yes':nPos+=1\n",
    "                    else:nNeg+=1\n",
    "            pPos = nPos/n\n",
    "            pNeg = nNeg/n\n",
    "            entropyV.append([entropy(pPos=pPos,pNeg=pNeg),nPos,nNeg])\n",
    "    for i in range(len(values)):\n",
    "        mapVE.append([values[i],entropyV[i]])\n",
    "    return mapVE"
   ]
  },
  {
   "cell_type": "code",
   "execution_count": 170,
   "metadata": {},
   "outputs": [
    {
     "name": "stdout",
     "output_type": "stream",
     "text": [
      "weather  :\n",
      "[['sunny', [0.9709505944546686, 2, 3]], ['cloudy', [-0.0, 4, 0]], ['rain', [0.9709505944546686, 3, 2]]]\n",
      "\n",
      "\n",
      "temp  :\n",
      "[['hot', [1.0, 2, 2]], ['mild', [0.9182958340544896, 4, 2]], ['cool', [0.8112781244591328, 3, 1]]]\n",
      "\n",
      "\n",
      "humidity  :\n",
      "[['high', [0.9852281360342515, 3, 4]], ['normal', [0.5916727785823275, 6, 1]]]\n",
      "\n",
      "\n",
      "wind  :\n",
      "[['weak', [0.8112781244591328, 6, 2]], ['strong', [1.0, 3, 3]]]\n",
      "\n",
      "\n"
     ]
    }
   ],
   "source": [
    "for i in range(features.shape[1]):\n",
    "    print(list(dataFrame)[i+1],\" :\")\n",
    "    print(entropyF(i+1))\n",
    "    print(\"\\n\")"
   ]
  },
  {
   "cell_type": "markdown",
   "metadata": {},
   "source": [
    "*Calculating gain :*"
   ]
  },
  {
   "cell_type": "code",
   "execution_count": 190,
   "metadata": {},
   "outputs": [],
   "source": [
    "def gain(a):\n",
    "    sum = 0\n",
    "    den = len(features)\n",
    "    for x in entropyF(a):\n",
    "        num = x[1][1]+x[1][2]\n",
    "        f = num/den\n",
    "        sum+=f * x[1][0]\n",
    "    return e-sum"
   ]
  },
  {
   "cell_type": "code",
   "execution_count": 192,
   "metadata": {},
   "outputs": [
    {
     "name": "stdout",
     "output_type": "stream",
     "text": [
      "weather  :\n",
      "Entropy : [['sunny', [0.9709505944546686, 2, 3]], ['cloudy', [-0.0, 4, 0]], ['rain', [0.9709505944546686, 3, 2]]]\n",
      "Gain : 0.2467498197744391\n",
      "\n",
      "\n",
      "temp  :\n",
      "Entropy : [['hot', [1.0, 2, 2]], ['mild', [0.9182958340544896, 4, 2]], ['cool', [0.8112781244591328, 3, 1]]]\n",
      "Gain : 0.029222565658954647\n",
      "\n",
      "\n",
      "humidity  :\n",
      "Entropy : [['high', [0.9852281360342515, 3, 4]], ['normal', [0.5916727785823275, 6, 1]]]\n",
      "Gain : 0.15183550136234136\n",
      "\n",
      "\n",
      "wind  :\n",
      "Entropy : [['weak', [0.8112781244591328, 6, 2]], ['strong', [1.0, 3, 3]]]\n",
      "Gain : 0.04812703040826927\n",
      "\n",
      "\n"
     ]
    }
   ],
   "source": [
    "for i in range(features.shape[1]):\n",
    "    print(list(dataFrame)[i+1],\" :\")\n",
    "    print(f\"Entropy : {entropyF(i+1)}\")\n",
    "    print(f\"Gain : {gain(i+1)}\")\n",
    "    print(\"\\n\")"
   ]
  },
  {
   "cell_type": "code",
   "execution_count": null,
   "metadata": {},
   "outputs": [],
   "source": []
  }
 ],
 "metadata": {
  "kernelspec": {
   "display_name": "ai043_ml",
   "language": "python",
   "name": "python3"
  },
  "language_info": {
   "codemirror_mode": {
    "name": "ipython",
    "version": 3
   },
   "file_extension": ".py",
   "mimetype": "text/x-python",
   "name": "python",
   "nbconvert_exporter": "python",
   "pygments_lexer": "ipython3",
   "version": "3.1.-1"
  }
 },
 "nbformat": 4,
 "nbformat_minor": 2
}
