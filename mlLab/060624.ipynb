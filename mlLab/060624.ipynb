{
 "cells": [
  {
   "cell_type": "markdown",
   "metadata": {},
   "source": [
    "# Decision Tree"
   ]
  },
  {
   "cell_type": "markdown",
   "metadata": {},
   "source": [
    "## Dependencies :"
   ]
  },
  {
   "cell_type": "markdown",
   "metadata": {},
   "source": [
    "**Importing dependencies :**"
   ]
  },
  {
   "cell_type": "code",
   "execution_count": 50,
   "metadata": {},
   "outputs": [],
   "source": [
    "import numpy as np\n",
    "import math\n",
    "import csv"
   ]
  },
  {
   "cell_type": "markdown",
   "metadata": {},
   "source": [
    "**Setting dataset paths :**"
   ]
  },
  {
   "cell_type": "code",
   "execution_count": 51,
   "metadata": {},
   "outputs": [],
   "source": [
    "dTrainPath = \"../datasets/mlLab/290524.csv\"\n",
    "dTestPath = \"../datasets/mlLab/060624.csv\""
   ]
  },
  {
   "cell_type": "code",
   "execution_count": 52,
   "metadata": {},
   "outputs": [
    {
     "name": "stdout",
     "output_type": "stream",
     "text": [
      "Train set :\n",
      "   weather  temp humidity    wind play_tennis\n",
      "0    sunny   hot     high    weak          no\n",
      "1    sunny   hot     high  strong          no\n",
      "2   cloudy   hot     high    weak         yes\n",
      "3     rain  mild     high    weak         yes\n",
      "4     rain  cool   normal    weak         yes\n",
      "5     rain  cool   normal  strong          no\n",
      "6   cloudy  cool   normal  strong         yes\n",
      "7    sunny  mild     high    weak          no\n",
      "8    sunny  cool   normal    weak         yes\n",
      "9     rain  mild   normal    weak         yes\n",
      "10   sunny  mild   normal  strong         yes\n",
      "11  cloudy  mild     high  strong         yes\n",
      "12  cloudy   hot   normal    weak         yes\n",
      "13    rain  mild     high  strong          no\n",
      "\n",
      "Test set :\n",
      "  weather temp humidity    wind\n",
      "0   sunny  hot     high    weak\n",
      "1   sunny  hot     high  strong\n",
      "2  cloudy  hot     high    weak\n"
     ]
    }
   ],
   "source": [
    "import pandas as pd\n",
    "\n",
    "dTrain = pd.read_csv(dTrainPath)\n",
    "dTest = pd.read_csv(dTestPath)\n",
    "\n",
    "print(f\"Train set :\\n{dTrain}\\n\\nTest set :\\n{dTest}\")"
   ]
  },
  {
   "cell_type": "markdown",
   "metadata": {},
   "source": [
    "## Definitions :"
   ]
  },
  {
   "cell_type": "markdown",
   "metadata": {},
   "source": [
    "**Class definition :**"
   ]
  },
  {
   "cell_type": "code",
   "execution_count": 53,
   "metadata": {},
   "outputs": [],
   "source": [
    "class Node:\n",
    "    def __init__(self,attribute):\n",
    "        self.attribute = attribute\n",
    "        self.children = []\n",
    "        self.answer = None"
   ]
  },
  {
   "cell_type": "markdown",
   "metadata": {},
   "source": [
    "**Data acquision method definitions :**"
   ]
  },
  {
   "cell_type": "code",
   "execution_count": 54,
   "metadata": {},
   "outputs": [],
   "source": [
    "def read_data(filename):\n",
    "    with open(filename,'r') as csvFile:\n",
    "        dReader = csv.reader(csvFile,delimiter=',')\n",
    "        headers = next(dReader)\n",
    "        dTrain = [row for row in dReader]\n",
    "    return headers, dTrain"
   ]
  },
  {
   "cell_type": "code",
   "execution_count": 55,
   "metadata": {},
   "outputs": [],
   "source": [
    "def read_test_data(filename):\n",
    "    with open(filename,'r') as csvFile:\n",
    "        dReader = csv.reader(csvFile,delimiter=',')\n",
    "        dTest = [row for row in dReader]\n",
    "    return dTest"
   ]
  },
  {
   "cell_type": "markdown",
   "metadata": {},
   "source": [
    "**Helper method defintions :**"
   ]
  },
  {
   "cell_type": "code",
   "execution_count": 56,
   "metadata": {},
   "outputs": [],
   "source": [
    "def subtables(data, col, delete):\n",
    "    dict = {}\n",
    "    items = np.unique(data[:,col])\n",
    "    for item in items:\n",
    "        dict[item] = data[data[:,col]== item]\n",
    "        if delete:\n",
    "            dict[item] = np.delete(dict[item],col,axis=1)\n",
    "    return items,dict           "
   ]
  },
  {
   "cell_type": "markdown",
   "metadata": {},
   "source": [
    "**entropy and gain calculator method defintions :**"
   ]
  },
  {
   "cell_type": "code",
   "execution_count": 57,
   "metadata": {},
   "outputs": [],
   "source": [
    "def entropy(S):\n",
    "    items, counts = np.unique(S, return_counts=True)\n",
    "    ps = counts/len(S)\n",
    "    return - np.sum(ps * np.log2(ps))"
   ]
  },
  {
   "cell_type": "code",
   "execution_count": 58,
   "metadata": {},
   "outputs": [],
   "source": [
    "def gain_ratio(data, col):\n",
    "    eTotal = entropy(data[:,-1])\n",
    "    items, dict = subtables(data, col, delete=False)\n",
    "\n",
    "    eSubset = 0\n",
    "    intrensicVal = 0\n",
    "    totalSize = data.shape[0]\n",
    "\n",
    "    for item in items:\n",
    "        subset = dict[item]\n",
    "        ratio = len(subset)/totalSize\n",
    "        eSubset += ratio * entropy(subset[:,-1])\n",
    "        intrensicVal -= ratio * math.log(ratio,2)\n",
    "\n",
    "    if intrensicVal == 0 : return 0\n",
    "\n",
    "    infoGain = eTotal - eSubset\n",
    "    return infoGain/intrensicVal "
   ]
  },
  {
   "cell_type": "markdown",
   "metadata": {},
   "source": [
    "**Node creator method definition :**"
   ]
  },
  {
   "cell_type": "code",
   "execution_count": 59,
   "metadata": {},
   "outputs": [],
   "source": [
    "def create_node(data, metadata):\n",
    "    if len(np.unique(data[:,-1]))==1:\n",
    "        node = Node(None)\n",
    "        node.answer = np.unique(data[:,-1])[0]\n",
    "        return node\n",
    "    \n",
    "    gains = [gain_ratio(data,col) for col in range(data.shape[1]-1)]\n",
    "    split = np.argmax(gains)\n",
    "    node = Node(metadata[split])\n",
    "    items, dict = subtables(data,split,delete=True)\n",
    "\n",
    "    for item in items:\n",
    "        child = create_node(dict[item],np.delete(metadata,split))\n",
    "        node.children.append((item,child))\n",
    "\n",
    "    return node"
   ]
  },
  {
   "cell_type": "markdown",
   "metadata": {},
   "source": [
    "**Predictor method defintion :**"
   ]
  },
  {
   "cell_type": "code",
   "execution_count": 60,
   "metadata": {},
   "outputs": [],
   "source": [
    "def predict(node, instance, metadata):\n",
    "    if node.answer is not None:\n",
    "        return node.answer\n",
    "    \n",
    "    value = instance[metadata.index(node.attribute)]\n",
    "\n",
    "    for item, child in node.children:\n",
    "        if item == value:\n",
    "            return predict(child, instance, metadata)"
   ]
  },
  {
   "cell_type": "markdown",
   "metadata": {},
   "source": [
    "**Utility printing method definition :**"
   ]
  },
  {
   "cell_type": "code",
   "execution_count": 61,
   "metadata": {},
   "outputs": [],
   "source": [
    "def empty(size):\n",
    "    return \"\\t\"*size"
   ]
  },
  {
   "cell_type": "code",
   "execution_count": 62,
   "metadata": {},
   "outputs": [],
   "source": [
    "def print_tree(node, level):\n",
    "    if node.answer is not None:\n",
    "        print(empty(level),node.answer)\n",
    "        return\n",
    "    print(empty(level),node.attribute)\n",
    "    for value, n in node.children:\n",
    "        print(empty(level+1),value)\n",
    "        print_tree(n,level+2)"
   ]
  },
  {
   "cell_type": "code",
   "execution_count": 63,
   "metadata": {},
   "outputs": [],
   "source": [
    "def print_predictions(node, testdata, metadata):\n",
    "    testInstance = testdata[1:]\n",
    "    for instance in testInstance:\n",
    "        prediction = predict(node, instance, metadata)\n",
    "        print(f\"Test instance : {instance}\\nPredicted label : {prediction}\")"
   ]
  },
  {
   "cell_type": "code",
   "execution_count": 64,
   "metadata": {},
   "outputs": [
    {
     "name": "stdout",
     "output_type": "stream",
     "text": [
      "Decision Tree Structure : \n",
      "\n",
      " weather\n",
      "\t cloudy\n",
      "\t\t yes\n",
      "\t rain\n",
      "\t\t wind\n",
      "\t\t\t strong\n",
      "\t\t\t\t no\n",
      "\t\t\t weak\n",
      "\t\t\t\t yes\n",
      "\t sunny\n",
      "\t\t humidity\n",
      "\t\t\t high\n",
      "\t\t\t\t no\n",
      "\t\t\t normal\n",
      "\t\t\t\t yes\n",
      "\n",
      "Predictions for test data\n",
      "Test instance : ['sunny', 'hot', 'high', 'weak']\n",
      "Predicted label : no\n",
      "Test instance : ['sunny', 'hot', 'high', 'strong']\n",
      "Predicted label : no\n",
      "Test instance : ['cloudy', 'hot', 'high', 'weak']\n",
      "Predicted label : yes\n"
     ]
    }
   ],
   "source": [
    "metadata, dTrain = read_data(dTrainPath)\n",
    "dTest = read_test_data(dTestPath)\n",
    "\n",
    "data = np.array(dTrain)\n",
    "\n",
    "node = create_node(data, metadata)\n",
    "\n",
    "print(\"Decision Tree Structure : \\n\")\n",
    "print_tree(node,0)\n",
    "\n",
    "print(\"\\nPredictions for test data\")\n",
    "print_predictions(node, dTest, metadata)"
   ]
  },
  {
   "cell_type": "code",
   "execution_count": null,
   "metadata": {},
   "outputs": [],
   "source": []
  }
 ],
 "metadata": {
  "kernelspec": {
   "display_name": "ai043_ml",
   "language": "python",
   "name": "python3"
  },
  "language_info": {
   "codemirror_mode": {
    "name": "ipython",
    "version": 3
   },
   "file_extension": ".py",
   "mimetype": "text/x-python",
   "name": "python",
   "nbconvert_exporter": "python",
   "pygments_lexer": "ipython3",
   "version": "3.10.14"
  }
 },
 "nbformat": 4,
 "nbformat_minor": 2
}
