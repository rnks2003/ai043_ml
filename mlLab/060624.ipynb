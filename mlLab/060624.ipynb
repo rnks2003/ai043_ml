{
 "cells": [
  {
   "cell_type": "markdown",
   "metadata": {},
   "source": [
    "# Decision Tree"
   ]
  },
  {
   "cell_type": "markdown",
   "metadata": {},
   "source": [
    "## Dependencies :"
   ]
  },
  {
   "cell_type": "markdown",
   "metadata": {},
   "source": [
    "**Importing dependencies :**"
   ]
  },
  {
   "cell_type": "code",
   "execution_count": 11,
   "metadata": {},
   "outputs": [],
   "source": [
    "import numpy as np\n",
    "import math\n",
    "import csv"
   ]
  },
  {
   "cell_type": "markdown",
   "metadata": {},
   "source": [
    "**Setting dataset paths :**"
   ]
  },
  {
   "cell_type": "code",
   "execution_count": 12,
   "metadata": {},
   "outputs": [],
   "source": [
    "dTrainPath = \"../datasets/mlLab/290524.csv\"\n",
    "dTestPath = \"../datasets/mlLab/060624.csv\""
   ]
  },
  {
   "cell_type": "code",
   "execution_count": 13,
   "metadata": {},
   "outputs": [
    {
     "name": "stdout",
     "output_type": "stream",
     "text": [
      "Train set :\n",
      "    day weather  temp humidity    wind play_tennis\n",
      "0     1   sunny   hot     high    weak          no\n",
      "1     2   sunny   hot     high  strong          no\n",
      "2     3  cloudy   hot     high    weak         yes\n",
      "3     4    rain  mild     high    weak         yes\n",
      "4     5    rain  cool   normal    weak         yes\n",
      "5     6    rain  cool   normal  strong          no\n",
      "6     7  cloudy  cool   normal  strong         yes\n",
      "7     8   sunny  mild     high    weak          no\n",
      "8     9   sunny  cool   normal    weak         yes\n",
      "9    10    rain  mild   normal    weak         yes\n",
      "10   11   sunny  mild   normal  strong         yes\n",
      "11   12  cloudy  mild     high  strong         yes\n",
      "12   13  cloudy   hot   normal    weak         yes\n",
      "13   14    rain  mild     high  strong          no\n",
      "\n",
      "Test set :\n",
      "  weather temp humidity    wind\n",
      "0   sunny  hot     high    weak\n",
      "1   sunny  hot     high  strong\n",
      "2  cloudy  hot     high    weak\n"
     ]
    }
   ],
   "source": [
    "import pandas as pd\n",
    "\n",
    "dTrain = pd.read_csv(dTrainPath)\n",
    "dTest = pd.read_csv(dTestPath)\n",
    "\n",
    "print(f\"Train set :\\n{dTrain}\\n\\nTest set :\\n{dTest}\")"
   ]
  },
  {
   "cell_type": "markdown",
   "metadata": {},
   "source": [
    "## Definitions :"
   ]
  },
  {
   "cell_type": "markdown",
   "metadata": {},
   "source": [
    "**Class definition :**"
   ]
  },
  {
   "cell_type": "code",
   "execution_count": 14,
   "metadata": {},
   "outputs": [],
   "source": [
    "class Node:\n",
    "    def __init__(self,attribute):\n",
    "        self.attribute = attribute\n",
    "        self.children = []\n",
    "        self.answer = None"
   ]
  },
  {
   "cell_type": "markdown",
   "metadata": {},
   "source": [
    "**Data acquision method definitions :**"
   ]
  },
  {
   "cell_type": "code",
   "execution_count": 15,
   "metadata": {},
   "outputs": [],
   "source": [
    "def read_data(filename):\n",
    "    with open(filename,'r') as csvFile:\n",
    "        dReader = csv.reader(csvFile,delimiter=',')\n",
    "        headers = next(dReader)\n",
    "        dTrain = [row for row in dReader]\n",
    "    return headers, dTrain"
   ]
  },
  {
   "cell_type": "code",
   "execution_count": 16,
   "metadata": {},
   "outputs": [],
   "source": [
    "def read_test_data(filename):\n",
    "    with open(filename,'r') as csvFile:\n",
    "        dReader = csv.reader(csvFile,delimiter=',')\n",
    "        dTest = [row for row in dReader]\n",
    "    return dTest"
   ]
  },
  {
   "cell_type": "markdown",
   "metadata": {},
   "source": [
    "**Helper method defintions :**"
   ]
  },
  {
   "cell_type": "code",
   "execution_count": 18,
   "metadata": {},
   "outputs": [],
   "source": [
    "def subtables(data, col, delete):\n",
    "    dict = {}\n",
    "    items = np.unique(data[:,col])\n",
    "    for item in items:\n",
    "        dict[item] = data[data[:,col]== item]\n",
    "        if delete:\n",
    "            dict[item] = np.delete(dict[item],col,axis=1)\n",
    "    return items,dict           "
   ]
  },
  {
   "cell_type": "code",
   "execution_count": null,
   "metadata": {},
   "outputs": [],
   "source": []
  }
 ],
 "metadata": {
  "kernelspec": {
   "display_name": "ai043_ml",
   "language": "python",
   "name": "python3"
  },
  "language_info": {
   "codemirror_mode": {
    "name": "ipython",
    "version": 3
   },
   "file_extension": ".py",
   "mimetype": "text/x-python",
   "name": "python",
   "nbconvert_exporter": "python",
   "pygments_lexer": "ipython3",
   "version": "3.10.14"
  }
 },
 "nbformat": 4,
 "nbformat_minor": 2
}
