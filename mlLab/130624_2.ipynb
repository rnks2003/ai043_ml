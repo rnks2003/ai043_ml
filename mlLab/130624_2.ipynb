{
 "cells": [
  {
   "cell_type": "markdown",
   "metadata": {},
   "source": [
    "# Naive Bayes Classifier"
   ]
  },
  {
   "cell_type": "code",
   "execution_count": 18,
   "metadata": {},
   "outputs": [],
   "source": [
    "import numpy as np\n",
    "import math\n",
    "import csv"
   ]
  },
  {
   "cell_type": "code",
   "execution_count": 19,
   "metadata": {},
   "outputs": [],
   "source": [
    "def read_data(filename):\n",
    "    with open(filename,'r') as csvFile:\n",
    "        dReader = csv.reader(csvFile,delimiter=',')\n",
    "        headers = next(dReader)\n",
    "        dTrain = [row for row in dReader]\n",
    "    return headers, dTrain"
   ]
  },
  {
   "cell_type": "code",
   "execution_count": 21,
   "metadata": {},
   "outputs": [],
   "source": [
    "def splitDataset(dataset,splitRatio):\n",
    "    trainSize = int(len(dataset)*splitRatio)\n",
    "    trainSet = []\n",
    "    testSet = list(dataset)\n",
    "    i=0\n",
    "    while len(trainSet)<trainSize:\n",
    "        trainSet.append(testSet.pop(i))\n",
    "    return [trainSet, testSet]"
   ]
  },
  {
   "cell_type": "code",
   "execution_count": 24,
   "metadata": {},
   "outputs": [],
   "source": [
    "def classify(data, test):\n",
    "    totalSize = data.shape[0]\n",
    "    print(f\"\\nTraining data size : {totalSize}\")\n",
    "    print(f\"Test data size : {test.shape[0]}\")\n",
    "\n",
    "    countYes = 0\n",
    "    countNo = 0\n",
    "    pYes = 0\n",
    "    pNo = 0\n",
    "\n",
    "    print(f\"\\nTarget count probability : \")\n",
    "    for x in range(data.shape[0]):\n",
    "        if data[x,data.shape[1]-1] == 'yes': countYes+=1\n",
    "        if data[x,data.shape[1]-1] == 'no': countNo+=1\n",
    "\n",
    "    pYes = countYes/totalSize\n",
    "    pNo = countNo/totalSize\n",
    "\n",
    "    print(f\"Yes\\t{countYes}\\t{pYes}\")\n",
    "    print(f\"No\\t{countNo}\\t{pNo}\")\n",
    "\n",
    "    p0 = np.zeros((test.shape[1]-1))\n",
    "    p1 = np.zeros((test.shape[1]-1))\n",
    "    acc = 0\n",
    "\n",
    "    print(\"\\n Instance prediction target : \") \n",
    "    for t in range(test.shape[0]):\n",
    "        for k in range(test.shape[1]-1):\n",
    "            c1 = c0 = 0\n",
    "            for j in range(data.shape[0]):\n",
    "                if test[t,k] == data[j,k] and data[j,data.shape[1]-1] == 'no': c0+=1\n",
    "                if test[t,k] == data[j,k] and data[j,data.shape[1]-1] == 'yes': c1+=1\n",
    "            \n",
    "            p0[k] = c0/countNo\n",
    "            p1[k] = c1/countYes\n",
    "        \n",
    "        pno = pNo\n",
    "        pyes = pYes\n",
    "\n",
    "        for i in range(test.shape[1]-1):\n",
    "            pno = pno * p0[i]\n",
    "            pyes = pyes * p1[i]\n",
    "\n",
    "        if pno>pyes:predict = 'no'\n",
    "        else : predict='yes'\n",
    "\n",
    "        print(f\"{t+1}\\t{predict}\\t\\t{test[t,test.shape[1]-1]}\")\n",
    "        if predict == test[t,test.shape[1]-1]:acc+=1\n",
    "    \n",
    "    finalAcc = (acc/test.shape[0])*100\n",
    "    print(f\"Accuracy : {finalAcc}%\")\n",
    "    return"
   ]
  },
  {
   "cell_type": "code",
   "execution_count": 28,
   "metadata": {},
   "outputs": [
    {
     "name": "stdout",
     "output_type": "stream",
     "text": [
      "The attribute names of training data : ['weather', 'temp', 'humidity', 'wind', 'play_tennis']\n",
      "\n",
      "The training data set are : \n",
      "['sunny' 'hot' 'high' 'weak' 'no']\n",
      "['sunny' 'hot' 'high' 'strong' 'no']\n",
      "['cloudy' 'hot' 'high' 'weak' 'yes']\n",
      "['rain' 'mild' 'high' 'weak' 'yes']\n",
      "['rain' 'cool' 'normal' 'weak' 'yes']\n",
      "['rain' 'cool' 'normal' 'strong' 'no']\n",
      "['cloudy' 'cool' 'normal' 'strong' 'yes']\n",
      "['sunny' 'mild' 'high' 'weak' 'no']\n",
      "\n",
      "The testing data set are : \n",
      "['sunny' 'cool' 'normal' 'weak' 'yes']\n",
      "['rain' 'mild' 'normal' 'weak' 'yes']\n",
      "['sunny' 'mild' 'normal' 'strong' 'yes']\n",
      "['cloudy' 'mild' 'high' 'strong' 'yes']\n",
      "['cloudy' 'hot' 'normal' 'weak' 'yes']\n",
      "['rain' 'mild' 'high' 'strong' 'no']\n",
      "\n",
      "Training data size : 8\n",
      "Test data size : 6\n",
      "\n",
      "Target count probability : \n",
      "Yes\t4\t0.5\n",
      "No\t4\t0.5\n",
      "\n",
      " Instance prediction target : \n",
      "1\tno\t\tyes\n",
      "2\tyes\t\tyes\n",
      "3\tno\t\tyes\n",
      "4\tyes\t\tyes\n",
      "5\tyes\t\tyes\n",
      "6\tno\t\tno\n",
      "Accuracy : 66.66666666666666%\n"
     ]
    }
   ],
   "source": [
    "metadata, dTrain = read_data(\"../datasets/mlLab/290524.csv\")\n",
    "print(f\"The attribute names of training data : {metadata}\")\n",
    "splitRatio =0.6\n",
    "xTrain , xTest = splitDataset(dTrain,splitRatio)\n",
    "xTrain = np.array(xTrain)\n",
    "print(\"\\nThe training data set are : \")\n",
    "for x in xTrain:\n",
    "    print(x)\n",
    "print(\"\\nThe testing data set are : \")\n",
    "xTest = np.array(xTest)\n",
    "for x in xTest:\n",
    "    print(x)\n",
    "\n",
    "classify(xTrain,xTest)"
   ]
  },
  {
   "cell_type": "code",
   "execution_count": null,
   "metadata": {},
   "outputs": [],
   "source": []
  }
 ],
 "metadata": {
  "kernelspec": {
   "display_name": "ai043_ml",
   "language": "python",
   "name": "python3"
  },
  "language_info": {
   "codemirror_mode": {
    "name": "ipython",
    "version": 3
   },
   "file_extension": ".py",
   "mimetype": "text/x-python",
   "name": "python",
   "nbconvert_exporter": "python",
   "pygments_lexer": "ipython3",
   "version": "3.10.14"
  }
 },
 "nbformat": 4,
 "nbformat_minor": 2
}
