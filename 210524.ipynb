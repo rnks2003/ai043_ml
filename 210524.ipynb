{
 "cells": [
  {
   "cell_type": "markdown",
   "id": "3067f328-a8fb-4007-a73d-524a2ae03bc1",
   "metadata": {},
   "source": [
    "**Importing dependancies :**"
   ]
  },
  {
   "cell_type": "code",
   "execution_count": 1,
   "id": "ab8dc359-b80a-46e6-9146-817fafb86cc3",
   "metadata": {},
   "outputs": [],
   "source": [
    "import os\n",
    "import tarfile\n",
    "import urllib.request"
   ]
  },
  {
   "cell_type": "markdown",
   "id": "f8a94aac-2a30-48bd-82ee-d1834294ddf9",
   "metadata": {},
   "source": [
    "**Setting urls :**"
   ]
  },
  {
   "cell_type": "code",
   "execution_count": 2,
   "id": "42d2e1cf-672f-422e-99f5-b064a62cd2b0",
   "metadata": {},
   "outputs": [],
   "source": [
    "rootURL = \"https://raw.githubusercontent.com/ageron/handson-ml2/master/\"\n",
    "datasetPATH = os.path.join(\"datasets\",\"housing\")\n",
    "datasetURL = rootURL + \"datasets/housing/housing.tgz\""
   ]
  },
  {
   "cell_type": "markdown",
   "id": "b8d4d4b8-8732-40ed-a85d-d6aa4257dabe",
   "metadata": {},
   "source": [
    "**Scraper function :**"
   ]
  },
  {
   "cell_type": "code",
   "execution_count": 3,
   "id": "48482547-5c25-4d17-9957-f50069950657",
   "metadata": {},
   "outputs": [],
   "source": [
    "def fetchData(dURL = datasetURL, dPATH = datasetPATH):\n",
    "    if not os.path.isdir(dPATH):\n",
    "        os.makedirs(dPATH)\n",
    "    tgzPATH = os.path.join(dPATH,\"housing\")\n",
    "    urllib.request.urlretrieve(dURL, tgzPATH)\n",
    "    dTGZ = tarfile.open(tgzPATH)\n",
    "    dTGZ.extractall(path=dPATH)\n",
    "    dTGZ.close()"
   ]
  },
  {
   "cell_type": "code",
   "execution_count": 4,
   "id": "effb115d-9607-461c-91c5-84d099c62c59",
   "metadata": {},
   "outputs": [],
   "source": [
    "fetchData()"
   ]
  },
  {
   "cell_type": "markdown",
   "id": "1cbc3b20-84b8-4da4-b895-5034159a3110",
   "metadata": {},
   "source": [
    "**Importing datasets :**"
   ]
  },
  {
   "cell_type": "code",
   "execution_count": null,
   "id": "fd9bfb9c-7f5c-4322-8692-c4a18238fcb0",
   "metadata": {},
   "outputs": [],
   "source": [
    "import pandas as pd\n",
    "\n",
    "data"
   ]
  }
 ],
 "metadata": {
  "kernelspec": {
   "display_name": "Python 3 (ipykernel)",
   "language": "python",
   "name": "python3"
  },
  "language_info": {
   "codemirror_mode": {
    "name": "ipython",
    "version": 3
   },
   "file_extension": ".py",
   "mimetype": "text/x-python",
   "name": "python",
   "nbconvert_exporter": "python",
   "pygments_lexer": "ipython3",
   "version": "3.10.14"
  }
 },
 "nbformat": 4,
 "nbformat_minor": 5
}
