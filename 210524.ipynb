{
 "cells": [
  {
   "cell_type": "markdown",
   "id": "3067f328-a8fb-4007-a73d-524a2ae03bc1",
   "metadata": {},
   "source": [
    "**Importing dependancies :**"
   ]
  },
  {
   "cell_type": "code",
   "execution_count": 1,
   "id": "ab8dc359-b80a-46e6-9146-817fafb86cc3",
   "metadata": {},
   "outputs": [],
   "source": [
    "import os\n",
    "import tarfile\n",
    "import urllib.request"
   ]
  },
  {
   "cell_type": "markdown",
   "id": "f8a94aac-2a30-48bd-82ee-d1834294ddf9",
   "metadata": {},
   "source": [
    "**Setting urls :**"
   ]
  },
  {
   "cell_type": "code",
   "execution_count": 2,
   "id": "42d2e1cf-672f-422e-99f5-b064a62cd2b0",
   "metadata": {},
   "outputs": [],
   "source": [
    "rootURL = \"https://raw.githubusercontent.com/ageron/handson-ml2/master/\"\n",
    "datasetPATH = os.path.join(\"datasets\",\"housing\")\n",
    "datasetURL = rootURL + \"datasets/housing/housing.tgz\""
   ]
  },
  {
   "cell_type": "markdown",
   "id": "b8d4d4b8-8732-40ed-a85d-d6aa4257dabe",
   "metadata": {},
   "source": [
    "**Scraper function :**"
   ]
  },
  {
   "cell_type": "code",
   "execution_count": 3,
   "id": "48482547-5c25-4d17-9957-f50069950657",
   "metadata": {},
   "outputs": [],
   "source": [
    "def fetchData(dURL = datasetURL, dPATH = datasetPATH):\n",
    "    if not os.path.isdir(dPATH):\n",
    "        os.makedirs(dPATH)\n",
    "    tgzPATH = os.path.join(dPATH,\"housing\")\n",
    "    urllib.request.urlretrieve(dURL, tgzPATH)\n",
    "    dTGZ = tarfile.open(tgzPATH)\n",
    "    dTGZ.extractall(path=dPATH)\n",
    "    dTGZ.close()"
   ]
  },
  {
   "cell_type": "code",
   "execution_count": 4,
   "id": "effb115d-9607-461c-91c5-84d099c62c59",
   "metadata": {},
   "outputs": [],
   "source": [
    "fetchData()"
   ]
  },
  {
   "cell_type": "markdown",
   "id": "1cbc3b20-84b8-4da4-b895-5034159a3110",
   "metadata": {},
   "source": [
    "**Importing datasets :**"
   ]
  },
  {
   "cell_type": "code",
   "execution_count": 6,
   "id": "fd9bfb9c-7f5c-4322-8692-c4a18238fcb0",
   "metadata": {},
   "outputs": [],
   "source": [
    "import pandas as pd\n",
    "\n",
    "dataset = pd.read_csv(\"datasets/housing/housing.csv\")"
   ]
  },
  {
   "cell_type": "code",
   "execution_count": 7,
   "id": "b191ce12-9b1e-4988-ac20-e4cb0fe024a2",
   "metadata": {},
   "outputs": [
    {
     "name": "stdout",
     "output_type": "stream",
     "text": [
      "       longitude  latitude  housing_median_age  total_rooms  total_bedrooms  \\\n",
      "0        -122.23     37.88                41.0        880.0           129.0   \n",
      "1        -122.22     37.86                21.0       7099.0          1106.0   \n",
      "2        -122.24     37.85                52.0       1467.0           190.0   \n",
      "3        -122.25     37.85                52.0       1274.0           235.0   \n",
      "4        -122.25     37.85                52.0       1627.0           280.0   \n",
      "...          ...       ...                 ...          ...             ...   \n",
      "20635    -121.09     39.48                25.0       1665.0           374.0   \n",
      "20636    -121.21     39.49                18.0        697.0           150.0   \n",
      "20637    -121.22     39.43                17.0       2254.0           485.0   \n",
      "20638    -121.32     39.43                18.0       1860.0           409.0   \n",
      "20639    -121.24     39.37                16.0       2785.0           616.0   \n",
      "\n",
      "       population  households  median_income  median_house_value  \\\n",
      "0           322.0       126.0         8.3252            452600.0   \n",
      "1          2401.0      1138.0         8.3014            358500.0   \n",
      "2           496.0       177.0         7.2574            352100.0   \n",
      "3           558.0       219.0         5.6431            341300.0   \n",
      "4           565.0       259.0         3.8462            342200.0   \n",
      "...           ...         ...            ...                 ...   \n",
      "20635       845.0       330.0         1.5603             78100.0   \n",
      "20636       356.0       114.0         2.5568             77100.0   \n",
      "20637      1007.0       433.0         1.7000             92300.0   \n",
      "20638       741.0       349.0         1.8672             84700.0   \n",
      "20639      1387.0       530.0         2.3886             89400.0   \n",
      "\n",
      "      ocean_proximity  \n",
      "0            NEAR BAY  \n",
      "1            NEAR BAY  \n",
      "2            NEAR BAY  \n",
      "3            NEAR BAY  \n",
      "4            NEAR BAY  \n",
      "...               ...  \n",
      "20635          INLAND  \n",
      "20636          INLAND  \n",
      "20637          INLAND  \n",
      "20638          INLAND  \n",
      "20639          INLAND  \n",
      "\n",
      "[20640 rows x 10 columns]\n"
     ]
    }
   ],
   "source": [
    "print(dataset)"
   ]
  },
  {
   "cell_type": "code",
   "execution_count": null,
   "id": "8bbc3455-3436-4f8e-b687-5d9ff684ca0d",
   "metadata": {},
   "outputs": [],
   "source": []
  }
 ],
 "metadata": {
  "kernelspec": {
   "display_name": "Python 3 (ipykernel)",
   "language": "python",
   "name": "python3"
  },
  "language_info": {
   "codemirror_mode": {
    "name": "ipython",
    "version": 3
   },
   "file_extension": ".py",
   "mimetype": "text/x-python",
   "name": "python",
   "nbconvert_exporter": "python",
   "pygments_lexer": "ipython3",
   "version": "3.10.14"
  }
 },
 "nbformat": 4,
 "nbformat_minor": 5
}
