{
 "cells": [
  {
   "cell_type": "markdown",
   "id": "6bc4ad03-6799-49ff-9f1c-dca7b5b09fa0",
   "metadata": {},
   "source": [
    "**Importing dependencies :**"
   ]
  },
  {
   "cell_type": "code",
   "execution_count": 2,
   "id": "8d3a68b7-7fd2-43a7-8fd8-1eb976d82dfc",
   "metadata": {},
   "outputs": [],
   "source": [
    "import pandas as pd\n",
    "from pandas.plotting import scatter_matrix\n",
    "from sklearn.model_selection import StratifiedShuffleSplit\n",
    "from sklearn.impute import SimpleImputer"
   ]
  },
  {
   "cell_type": "markdown",
   "id": "6841d984-c9bf-4e55-bd46-18eacce4a225",
   "metadata": {},
   "source": [
    "**Loading dataset :**"
   ]
  },
  {
   "cell_type": "code",
   "execution_count": null,
   "id": "9d780731-6974-4de4-938e-799abed71bb7",
   "metadata": {},
   "outputs": [],
   "source": [
    "dataset = pd.read_csv(\"\")"
   ]
  }
 ],
 "metadata": {
  "kernelspec": {
   "display_name": "Python 3 (ipykernel)",
   "language": "python",
   "name": "python3"
  },
  "language_info": {
   "codemirror_mode": {
    "name": "ipython",
    "version": 3
   },
   "file_extension": ".py",
   "mimetype": "text/x-python",
   "name": "python",
   "nbconvert_exporter": "python",
   "pygments_lexer": "ipython3",
   "version": "3.10.14"
  }
 },
 "nbformat": 4,
 "nbformat_minor": 5
}
